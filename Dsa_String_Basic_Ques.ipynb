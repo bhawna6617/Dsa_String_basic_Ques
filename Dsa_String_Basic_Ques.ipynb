{
 "cells": [
  {
   "cell_type": "markdown",
   "id": "8c0e9b4a",
   "metadata": {},
   "source": [
    "# Reverse String"
   ]
  },
  {
   "cell_type": "code",
   "execution_count": 1,
   "id": "c9765cce",
   "metadata": {},
   "outputs": [
    {
     "name": "stdout",
     "output_type": "stream",
     "text": [
      "['o', 'l', 'l', 'e', 'h']\n"
     ]
    }
   ],
   "source": [
    " s = [\"h\",\"e\",\"l\",\"l\",\"o\"]\n",
    "print(s[::-1])"
   ]
  },
  {
   "cell_type": "markdown",
   "id": "d466d56b",
   "metadata": {},
   "source": [
    "# Palindrome String\n"
   ]
  },
  {
   "cell_type": "code",
   "execution_count": 7,
   "id": "a748655c",
   "metadata": {},
   "outputs": [
    {
     "name": "stdout",
     "output_type": "stream",
     "text": [
      "enter number:-121\n",
      "its palindrome\n"
     ]
    }
   ],
   "source": [
    "i=int(input(\"enter number:-\"))\n",
    "org = i\n",
    "r = 0\n",
    "while(i>0):\n",
    "    r=(r*10)+i%10\n",
    "    i=i//10\n",
    "if(org==r):\n",
    "    print(\"its palindrome\")\n",
    "else:\n",
    "    print(\"not\")"
   ]
  },
  {
   "cell_type": "markdown",
   "id": "d52685fd",
   "metadata": {},
   "source": [
    "# Duplicate Char in a string"
   ]
  },
  {
   "cell_type": "code",
   "execution_count": 16,
   "id": "80e6a200",
   "metadata": {},
   "outputs": [
    {
     "name": "stdout",
     "output_type": "stream",
     "text": [
      "e 4\n",
      "f 1\n",
      "g 2\n",
      "k 2\n",
      "o 1\n",
      "r 1\n",
      "s 2\n"
     ]
    }
   ],
   "source": [
    "S = \"geeksforgeeks\"\n",
    "\n",
    "for i in sorted(set(S)):\n",
    "    print(i,S.count(i))\n"
   ]
  },
  {
   "cell_type": "markdown",
   "id": "c0cf7fe7",
   "metadata": {},
   "source": [
    "# Check If given Str are rotations of each other or not"
   ]
  },
  {
   "cell_type": "code",
   "execution_count": 1,
   "id": "47afd79c",
   "metadata": {},
   "outputs": [
    {
     "name": "stdout",
     "output_type": "stream",
     "text": [
      "Strings are rotations of each other\n"
     ]
    }
   ],
   "source": [
    "S1 = \"ABCD\"\n",
    "S2 = \"CDAB\"\n",
    "c = S1+S2\n",
    "if len(S1) ==len(S2) and S1 and S2:\n",
    "    c=S1+S2\n",
    "    if S2 in c:\n",
    "        print(\"Strings are rotations of each other\")\n",
    "    else:\n",
    "        print(\"Strings are not rotations of each other\")\n",
    "else:\n",
    "    print(\"Strings are not rotations of each other\")"
   ]
  },
  {
   "cell_type": "markdown",
   "id": "a551f9cc",
   "metadata": {},
   "source": [
    "# Longest Palindrome in a string"
   ]
  },
  {
   "cell_type": "code",
   "execution_count": 6,
   "id": "65ed0f4e",
   "metadata": {},
   "outputs": [
    {
     "name": "stdout",
     "output_type": "stream",
     "text": [
      "aabbaa\n"
     ]
    }
   ],
   "source": [
    "def longest_palindrome(s: str) -> str:\n",
    "    if len(s) < 2:\n",
    "        return s\n",
    "\n",
    "    start = 0\n",
    "    max_length = 0\n",
    "\n",
    "    for i in range(len(s)):\n",
    "        # Expand around center for odd length palindrome\n",
    "        left = right = i\n",
    "        while left >= 0 and right < len(s) and s[left] == s[right]:\n",
    "            if right - left + 1 > max_length:\n",
    "                start = left\n",
    "                max_length = right - left + 1\n",
    "            left -= 1\n",
    "            right += 1\n",
    "\n",
    "        # Expand around center for even length palindrome\n",
    "        left = i\n",
    "        right = i + 1\n",
    "        while left >= 0 and right < len(s) and s[left] == s[right]:\n",
    "            if right - left + 1 > max_length:\n",
    "                start = left\n",
    "                max_length = right - left + 1\n",
    "            left -= 1\n",
    "            right += 1\n",
    "\n",
    "    return s[start:start + max_length]\n",
    "\n",
    "# Test the function\n",
    "S = \"aaaabbaa\"\n",
    "print(longest_palindrome(S))\n",
    "\n",
    "            \n",
    "        "
   ]
  },
  {
   "cell_type": "markdown",
   "id": "9d46f1be",
   "metadata": {},
   "source": [
    "# Calculate the len of string\n"
   ]
  },
  {
   "cell_type": "code",
   "execution_count": 2,
   "id": "66ab3751",
   "metadata": {},
   "outputs": [
    {
     "name": "stdout",
     "output_type": "stream",
     "text": [
      "5\n"
     ]
    }
   ],
   "source": [
    "x = \"nandu\"\n",
    "s=len(x)\n",
    "print(s)"
   ]
  },
  {
   "cell_type": "markdown",
   "id": "b48fcf5f",
   "metadata": {},
   "source": [
    "# Count the number of char"
   ]
  },
  {
   "cell_type": "code",
   "execution_count": 4,
   "id": "9847286e",
   "metadata": {},
   "outputs": [
    {
     "name": "stdout",
     "output_type": "stream",
     "text": [
      ". 1\n",
      "c 1\n",
      "e 1\n",
      "g 2\n",
      "l 1\n",
      "m 1\n",
      "o 3\n"
     ]
    }
   ],
   "source": [
    "x = \"google.com\"\n",
    "for i in sorted(set(x)):\n",
    "    print(i,x.count(i))"
   ]
  },
  {
   "cell_type": "markdown",
   "id": "0a219be3",
   "metadata": {},
   "source": [
    "# str made of the number of the first2 and last2 char of  a given str"
   ]
  },
  {
   "cell_type": "code",
   "execution_count": 13,
   "id": "3c67f18a",
   "metadata": {},
   "outputs": [
    {
     "name": "stdout",
     "output_type": "stream",
     "text": [
      "\n",
      "\n",
      "w3ce\n"
     ]
    }
   ],
   "source": [
    "x='w3resource'\n",
    "for i in range(len(x)):\n",
    "    if i<2:\n",
    "        print(\"\")\n",
    "print(x[0:2]+x[-2:])"
   ]
  },
  {
   "cell_type": "markdown",
   "id": "41af2cb9",
   "metadata": {},
   "source": [
    "# Write a Python program to get a string from a given string where all occurrences of its first char have been changed to '"
   ]
  },
  {
   "cell_type": "code",
   "execution_count": 15,
   "id": "e5b62083",
   "metadata": {},
   "outputs": [
    {
     "name": "stdout",
     "output_type": "stream",
     "text": [
      "resta$t\n"
     ]
    }
   ],
   "source": [
    "s =\"restart\"\n",
    "x=s[0]\n",
    "s = s.replace(x,\"$\")\n",
    "s = x +s[1:]\n",
    "print(s)"
   ]
  },
  {
   "cell_type": "markdown",
   "id": "0b6ec9e8",
   "metadata": {},
   "source": [
    "# a single str from two given str,separeted by a space and swap the first two char of each str"
   ]
  },
  {
   "cell_type": "code",
   "execution_count": 16,
   "id": "f77abfc6",
   "metadata": {},
   "outputs": [
    {
     "name": "stdout",
     "output_type": "stream",
     "text": [
      "xyc abz\n"
     ]
    }
   ],
   "source": [
    "x = 'abc'\n",
    "y ='xyz'\n",
    "a = y[:2]+x[2:]\n",
    "b= x[:2]+y[2:]\n",
    "print(a + \" \" +b)\n"
   ]
  },
  {
   "cell_type": "code",
   "execution_count": null,
   "id": "89396872",
   "metadata": {},
   "outputs": [],
   "source": []
  }
 ],
 "metadata": {
  "kernelspec": {
   "display_name": "Python 3 (ipykernel)",
   "language": "python",
   "name": "python3"
  },
  "language_info": {
   "codemirror_mode": {
    "name": "ipython",
    "version": 3
   },
   "file_extension": ".py",
   "mimetype": "text/x-python",
   "name": "python",
   "nbconvert_exporter": "python",
   "pygments_lexer": "ipython3",
   "version": "3.11.5"
  }
 },
 "nbformat": 4,
 "nbformat_minor": 5
}
